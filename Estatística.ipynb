{
  "nbformat": 4,
  "nbformat_minor": 0,
  "metadata": {
    "colab": {
      "provenance": [],
      "collapsed_sections": [
        "1fCkaMbGDQDU",
        "O4MYbrVjDnhk",
        "BV4MY9L6NMEz",
        "wANuq2TYZtIG"
      ],
      "mount_file_id": "1Tju04imywO5xDK347T7VhHHJVqMv0r8h",
      "authorship_tag": "ABX9TyOkEn0NIUBRuQ1/40s/4rGm",
      "include_colab_link": true
    },
    "kernelspec": {
      "name": "python3",
      "display_name": "Python 3"
    },
    "language_info": {
      "name": "python"
    }
  },
  "cells": [
    {
      "cell_type": "markdown",
      "metadata": {
        "id": "view-in-github",
        "colab_type": "text"
      },
      "source": [
        "<a href=\"https://colab.research.google.com/github/Yta-ux/estudo-estatistica/blob/main/Estat%C3%ADstica.ipynb\" target=\"_parent\"><img src=\"https://colab.research.google.com/assets/colab-badge.svg\" alt=\"Open In Colab\"/></a>"
      ]
    },
    {
      "cell_type": "markdown",
      "source": [
        "# Estatística e Probabilidade\n",
        "\n",
        "É a ciência que coleta, organiza, analisa e interpreta dados para tomada de decisão.\n",
        "- Dados são informações que vêm de observações, contagens, medições ou respostas"
      ],
      "metadata": {
        "id": "UMb0Hp6ZA03n"
      }
    },
    {
      "cell_type": "markdown",
      "source": [
        "## População e Amostra\n",
        "\n",
        "**População** são todos os dados do nosso conjunto de estudo, ou seja, dados de todo o universo a ser estudado naquele momento.\n",
        "**Amostra** é um subconjunto dessa população, uma parcela que represente ela para que sejam realizadas inferências.\n",
        "\n",
        "> Dados coletados de forma correta, irão fornecer inferências corretas.\n",
        "\n"
      ],
      "metadata": {
        "id": "ShORC3gwB_CO"
      }
    },
    {
      "cell_type": "markdown",
      "source": [
        "## Estatística Descritiva e Inferencial\n",
        "\n",
        "**Estatística Descritiva:** Ramo da estatística que trabalha com o conjunto universo, organizando, resumindo e representando os dados.\n",
        "\n",
        "**Estatística Inferencial:**Ramo que envolve o trabalho com amostras para chegar a conclusões sobre uma população - probabilidade"
      ],
      "metadata": {
        "id": "Q3d9n1PZClYC"
      }
    },
    {
      "cell_type": "markdown",
      "source": [
        "# Estatística Descritiva\n",
        "\n",
        "Fornece métodos para organização e descrição do conjunto de dados. Sendo aplicado em uma coleta de população.\n",
        "\n",
        "Tem como objetivo tornar os dados mais fáceis de serem entendidos."
      ],
      "metadata": {
        "id": "1fCkaMbGDQDU"
      }
    },
    {
      "cell_type": "markdown",
      "source": [
        "## Distribuição de Frequência\n",
        "\n",
        "- Sua ideia principal é agrupar intervalos chamados de classes, e atribui-los a uma frequência.\n",
        "\n",
        "- Fornece uma organização para dados brutos.\n",
        "\n",
        "- Dispõe os dados com base nas ocorrências de cada uma das classes.\n",
        "\n",
        "- As classes possuem seu limite inferior e superior, a distância entre esses limites (intervalo fechado) é chamada de **largura**."
      ],
      "metadata": {
        "id": "O4MYbrVjDnhk"
      }
    },
    {
      "cell_type": "markdown",
      "source": [],
      "metadata": {
        "id": "grmHdiVaDGIP"
      }
    },
    {
      "cell_type": "code",
      "source": [
        "import pandas as pd\n",
        "\n",
        "# Definição do número de classes e seleção da base de dados\n",
        "n_classes = 5\n",
        "data = pd.read_csv('/content/drive/MyDrive/Colab Notebooks/day.csv')\n",
        "alugueis = data.cnt\n",
        "\n",
        "\n",
        "# Encontrar a amplitude dos dados\n",
        "\n",
        "maior = max(alugueis)\n",
        "menor = min(alugueis)\n",
        "amplitude = maior - menor\n",
        "\n",
        "# Encontrar a amplitude das classes\n",
        "\n",
        "amplitude_classe = round(amplitude/n_classes) # Mesma coisa que a largura da classe\n",
        "\n",
        "# Limites de classes\n",
        "limites_inf = [menor]\n",
        "\n",
        "for x in range(n_classes):\n",
        "  limites_inf.append(limites_inf[x]+amplitude_classe)\n",
        "\n",
        "limites_inf\n",
        "\n",
        "# Contar ocorrências nas classes\n",
        "frequencias = {'classe1':0, 'classe2':0, 'classe3':0, 'classe4':0, 'classe5':0}\n",
        "\n",
        "for numero in alugueis:\n",
        "  if numero < limites_inf[1]:\n",
        "    frequencias['classe1'] +=1\n",
        "  elif numero < limites_inf[2]:\n",
        "    frequencias['classe2'] +=1\n",
        "  elif numero < limites_inf[3]:\n",
        "    frequencias['classe3'] +=1\n",
        "  elif numero < limites_inf[5]:\n",
        "    frequencias['classe4'] +=1\n",
        "  else:\n",
        "    frequencias['classe5'] +=1\n",
        "\n",
        "# frequencias"
      ],
      "metadata": {
        "id": "rbBM_6g2EqMp"
      },
      "execution_count": null,
      "outputs": []
    },
    {
      "cell_type": "markdown",
      "source": [
        "### Frequência Relativa\n",
        "\n",
        "- É baseada no percentual de frequência que determinada classe possui.\n",
        "- Alteraçãoo nos dados da escala.\n",
        "- Para conseguir essa medida, basta pegar as frequências coletadas e dividir pelas ocorrências (quantidade máxima do array)"
      ],
      "metadata": {
        "id": "Mal5tPhrKEaJ"
      }
    },
    {
      "cell_type": "code",
      "source": [
        "n_ocorrencias = len(alugueis)\n",
        "\n",
        "for classe in frequencias:\n",
        "  frequencias[classe] = (frequencias[classe] / n_ocorrencias) * 100\n",
        "frequencias"
      ],
      "metadata": {
        "colab": {
          "base_uri": "https://localhost:8080/"
        },
        "id": "lRAi3MNSKtV0",
        "outputId": "a67467ac-4875-44bf-db61-c73325f7f184"
      },
      "execution_count": null,
      "outputs": [
        {
          "output_type": "execute_result",
          "data": {
            "text/plain": [
              "{'classe1': 13.750000000000002,\n",
              " 'classe2': 33.75,\n",
              " 'classe3': 37.5,\n",
              " 'classe4': 15.0,\n",
              " 'classe5': 0.0}"
            ]
          },
          "metadata": {},
          "execution_count": 34
        }
      ]
    },
    {
      "cell_type": "markdown",
      "source": [
        "### Histograma de Frequência\n",
        "\n",
        "- Gráfico que facilita a visualização dos dados.\n",
        "- Um historigrama de frequência é um diagrama com barras que representam a distribuição de frequência de um conjunto de dados.\n",
        "- Propriedades:\n",
        "  - A escala horizontal representa os valores das faixas de cada classe.\n",
        "  - A escala vertical mede a frequência de cada classe.\n",
        "  - As barras consecutivas devem estar encostadas umas nas outras.\n",
        "\n"
      ],
      "metadata": {
        "id": "w-MmsT9ALZhH"
      }
    },
    {
      "cell_type": "code",
      "source": [
        "import matplotlib.pyplot as plt\n",
        "\n",
        "plt.hist(alugueis, 5)\n",
        "plt.xlabel('Classes')\n",
        "plt.ylabel('Quantidade')\n",
        "plt.title('Ocorrências das Classes')\n",
        "plt.grid(True)\n",
        "plt.show()"
      ],
      "metadata": {
        "colab": {
          "base_uri": "https://localhost:8080/",
          "height": 472
        },
        "id": "yzm5Rsm_MX1n",
        "outputId": "01109a25-8101-47fc-f8f3-bc75a9974884"
      },
      "execution_count": null,
      "outputs": [
        {
          "output_type": "display_data",
          "data": {
            "text/plain": [
              "<Figure size 640x480 with 1 Axes>"
            ],
            "image/png": "[encoded data removed]"
          },
          "metadata": {}
        }
      ]
    },
    {
      "cell_type": "markdown",
      "source": [
        "## Medidas de Tendência Central\n",
        "- São medidas que buscam descrever um conjunto de dados a partir de um valor central.\n",
        "- As distribuições de frequências e os gráficos de frequência são poderosas ferramentas."
      ],
      "metadata": {
        "id": "BV4MY9L6NMEz"
      }
    },
    {
      "cell_type": "markdown",
      "source": [
        "### Média\n",
        "\n",
        "- Medida mais conhecida e aplicada no meio estatístico.\n",
        "- Méda é soma de todos os valores dividido pela quantidade total desses valores.\n",
        "\n",
        "$$\n",
        "\\overline{x} = \\frac{\\sum_{i=1}^n x_i}{n}\n",
        "$$\n",
        "\n",
        "- $\\overline{x}$ : Representa a média simples.\n",
        "- $x_i$ : É o valor de cada elemento (ou dado) que será considerado.\n",
        "- $n$ : É o número total de elementos considerados na média.\n",
        "- $\\sum$ : Representa o somatório.\n",
        "- $\\sum_{i=1}^n x_i$ : É o somatório de todos os valores dos elementos.\n",
        "\n"
      ],
      "metadata": {
        "id": "Mg116A2rNwz1"
      }
    },
    {
      "cell_type": "code",
      "source": [
        "import numpy as np\n",
        "\n",
        "# Usando python nativo\n",
        "media_alugueis = sum(alugueis)/len(alugueis)\n",
        "\n",
        "# Usando a lib numpy\n",
        "\n",
        "np.mean(alugueis)"
      ],
      "metadata": {
        "colab": {
          "base_uri": "https://localhost:8080/"
        },
        "id": "XJsaZMTDOG-1",
        "outputId": "b9d02c66-1a5d-4e83-a805-f87e87942973"
      },
      "execution_count": null,
      "outputs": [
        {
          "output_type": "execute_result",
          "data": {
            "text/plain": [
              "1621.0875"
            ]
          },
          "metadata": {},
          "execution_count": 36
        }
      ]
    },
    {
      "cell_type": "markdown",
      "source": [
        "### Mediana\n",
        "\n",
        "- Será o valor que está exatamente no meio de um conjunto de dados ordenado.\n",
        "- Divide o conjunto de dados em duas partes.\n",
        "- Se o conjunto for ímpar, a mediana é a entrada de dados do meio.\n",
        "- Se for par, a entrada será uma média das duas entradas do meio."
      ],
      "metadata": {
        "id": "fCR1D7hTOrHv"
      }
    },
    {
      "cell_type": "code",
      "source": [
        "# Ordena o conjunto de dados\n",
        "alugueis = sorted(alugueis)\n",
        "\n",
        "# Calcula o valor da mediana com base na quantidade de elementos do conjunto\n",
        "\n",
        "if len(alugueis) % 2 == 0:\n",
        "  indice = (len(alugueis) - 1) // 2\n",
        "  mediana = (alugueis[indice] + alugueis[ indice + 1]) / 2\n",
        "else:\n",
        "  mediana = alugueis[len(alugueis) / 2]\n",
        "\n",
        "\n",
        "# Calculando a mediana com numpy\n",
        "np.median(alugueis)"
      ],
      "metadata": {
        "colab": {
          "base_uri": "https://localhost:8080/"
        },
        "id": "CUidNnYaPFve",
        "outputId": "c576f3c6-1f2a-4a1b-99d8-55a817ea0213"
      },
      "execution_count": null,
      "outputs": [
        {
          "output_type": "execute_result",
          "data": {
            "text/plain": [
              "1594.5"
            ]
          },
          "metadata": {},
          "execution_count": 37
        }
      ]
    },
    {
      "cell_type": "markdown",
      "source": [
        "### Moda\n",
        "\n",
        "- É o conjunto de dados com base na ocorrência de determinado valor.\n",
        "- Se nenhuma ocorrência se repetir, a moda não vai existir\n"
      ],
      "metadata": {
        "id": "iUhWxHiURTwu"
      }
    },
    {
      "cell_type": "markdown",
      "source": [],
      "metadata": {
        "id": "QhP67SxWB9iG"
      }
    },
    {
      "cell_type": "code",
      "source": [
        "# Criando array\n",
        "contagens = [0]*len(alugueis)\n",
        "\n",
        "# Contando ocorrências\n",
        "for i in range(len(alugueis)):\n",
        "  contagens[i] = alugueis.count(alugueis[i])\n",
        "\n",
        "contagens\n",
        "max(contagens)\n",
        "\n",
        "\n",
        "indices_moda = np.where(np.array(contagens) == max(contagens))\n",
        "for indice in indices_moda[0]:\n",
        "  print(alugueis[indice])"
      ],
      "metadata": {
        "colab": {
          "base_uri": "https://localhost:8080/"
        },
        "id": "G_1lPjvzPvpq",
        "outputId": "261f0d08-1f86-4528-95f4-0422ceabf632"
      },
      "execution_count": null,
      "outputs": [
        {
          "output_type": "stream",
          "name": "stdout",
          "text": [
            "2077\n",
            "2077\n"
          ]
        }
      ]
    },
    {
      "cell_type": "markdown",
      "source": [
        "### Qual medida de tendência central eu devo utilizar?\n",
        "\n",
        "- Média e Mediana são as mais comuns e utilizadas.\n",
        "- Média é influenciadas por valores discrepantes (outliers).\n",
        "- Mediana não é afetada por esses valores."
      ],
      "metadata": {
        "id": "Gca42mCwS5fn"
      }
    },
    {
      "cell_type": "markdown",
      "source": [
        "### Média Ponderada\n",
        "\n",
        "- Média utilizada quando temos um cojunto de valores possui um grau de importância.\n",
        "- Adicionar pesos nos valores que são necessários.\n",
        "- É o valor * o peso, tudo isso dividido pela soma dos pesos.\n",
        "\n",
        "$$\n",
        "\\overline{x} = \\frac{\\sum_{i=1}^n w_i x_i}{\\sum_{i=1}^n w_i}\n",
        "$$\n",
        "\n",
        "**Onde:**\n",
        "\n",
        "- $\\overline{x}$ : Representa a média ponderada.\n",
        "- $x_i$ : É o valor de cada elemento (ou dado) que será considerado.\n",
        "- $w_i$ : É o peso atribuído ao elemento $x_i$, indicando sua relevância ou importância.\n",
        "- $n$ : É o número total de elementos considerados na média.\n",
        "- $\\sum$ : Representa o somatório.\n",
        "- $\\sum_{i=1}^n w_i x_i$ : É o somatório do produto entre cada valor $x_i$ e seu respectivo peso $w_i$.\n",
        "- $\\sum_{i=1}^n w_i$ : É o somatório dos pesos atribuídos aos elementos."
      ],
      "metadata": {
        "id": "clVnQ_t-TkOu"
      }
    },
    {
      "cell_type": "markdown",
      "source": [
        "## Medidas de Variação\n",
        "\n",
        "- São utilizadas para avaliarmos a variação presente nos valores de determinado conjunto de dados.\n",
        "- Unidos com as medidas de tendência central, conseguem fornecer diversas informações acerca da base de dados.\n",
        "- As medidas de tedência central sozinhas, não conseguem informar muito sobre o conjunto de dados.\n",
        "\n",
        "$x_1 = \\{48, 53, 50, 47, 52\\}$\n",
        "\n",
        "$x_2 = \\{20, 30, 50, 60, 80\\}$\n",
        "\n",
        "- As medidas de tendência central não conseguem informar muito sobre como esses dados variam e seus padrões."
      ],
      "metadata": {
        "id": "wANuq2TYZtIG"
      }
    },
    {
      "cell_type": "markdown",
      "source": [
        "### Amplitude\n",
        "\n",
        "- Medida de variação mais simples.\n",
        "- Amplitude é definida pela subtração do maior valor, pelo menor valor.\n",
        "- Sua falha está nos casos em que o menor valor ou maior podem ser outliers.\n",
        "- Ela ajuda de forma simples a validar o quanto os dados variam, se o valor for pequeno, quer dizer que os dados não estão tão dispersos, se forem maiores, ficam mais dispersos.\n",
        "- Realizando comparação com a base original de dados.\n",
        "\n",
        "$$\n",
        "   \\text{Amplitude} = \\text{Valor máximo} - \\text{Valor mínimo}\n",
        "$$\n",
        "\n",
        "\n",
        "$$\n",
        "   \\text{Proporção da Amplitude} = \\frac{\\text{Amplitude}}{\\text{Média}}\n",
        "$$"
      ],
      "metadata": {
        "id": "5uwLlDOOdXhc"
      }
    },
    {
      "cell_type": "code",
      "source": [
        "amplitude = max(alugueis) - min(alugueis)\n",
        "amplitude"
      ],
      "metadata": {
        "colab": {
          "base_uri": "https://localhost:8080/"
        },
        "id": "1RBrHp6MfgTN",
        "outputId": "5c854538-4669-44e3-89bb-773e37545862"
      },
      "execution_count": null,
      "outputs": [
        {
          "output_type": "execute_result",
          "data": {
            "text/plain": [
              "2808"
            ]
          },
          "metadata": {},
          "execution_count": 39
        }
      ]
    },
    {
      "cell_type": "markdown",
      "source": [
        "### Variância\n",
        "\n",
        "- É definida pelo quadrado da difrença de cada valor pela média, dividido pela quantidade de elementos do conjunto.\n",
        "- Ele vai medir cada dado do conjunto em relação a média (tendência central).\n",
        "- Ele vai trabalhar com o dados ao quadrado, para aproximar valores distantes a média e poder eliminar a possibilidade de valores negativos existirem.\n",
        "- Com base na variância, conseguimos validar se nosso conjunto de dados está muito disperso ou não, comparando o valor com nosso conjunto.\n",
        "\n",
        "$$\\sigma^2 = \\frac{\\sum_{i=1}^n (x_i - \\mu)^2}{n}$$\n",
        "\n",
        "**Onde:**\n",
        "\n",
        "#### Explicação dos Termos\n",
        "\n",
        "$\\sigma^2$ (Variância): Representa a **variância da população**. Mede a dispersão dos dados em relação à média $\\mu$. Um valor maior de $\\sigma^2$ indica maior dispersão dos dados.\n",
        "\n",
        "$\\sum_{i=1}^n$ (Somatório): Representa a soma de todos os valores calculados para cada elemento $x_i$ do conjunto de dados. O somatório garante que estamos considerando todos os elementos da população.\n",
        "\n",
        "$(x_i - \\mu)$ (Desvio): É a **diferença** entre cada valor $x_i$ e a **média da população** $\\mu$. Isso mostra o quanto cada dado está distante da média da população.\n",
        "\n",
        "$(x_i - \\mu)^2$ (Desvio ao quadrado): Elevamos o desvio ao quadrado para **remover os sinais negativos** e dar **maior peso aos desvios maiores**. Isso amplifica a contribuição dos valores mais distantes da média.\n",
        "\n",
        "$n$ (Número de elementos): Representa o número total de elementos na população. Divide o somatório para calcular a **média dos desvios quadrados**.\n",
        "\n",
        "$\\mu$ (Média da população): A **média** de todos os valores na população. Serve como o ponto de referência central para calcular os desvios."
      ],
      "metadata": {
        "id": "_q9BWGUMiwbC"
      }
    },
    {
      "cell_type": "code",
      "source": [
        "# Forma Manual\n",
        "var = 0\n",
        "media = np.mean(alugueis)\n",
        "\n",
        "for numero in alugueis:\n",
        "  var += (numero - media) ** 2\n",
        "\n",
        "var = var / len(alugueis)\n",
        "\n",
        "## Usando Pandas\n",
        "\n",
        "var = alugueis.var()\n",
        "\n",
        "var"
      ],
      "metadata": {
        "colab": {
          "base_uri": "https://localhost:8080/"
        },
        "id": "v7qOwD4NpB-U",
        "outputId": "bbc254fb-d9f6-4c80-9bde-fcdc6fca65ba"
      },
      "execution_count": null,
      "outputs": [
        {
          "output_type": "execute_result",
          "data": {
            "text/plain": [
              "319637.3213607595"
            ]
          },
          "metadata": {},
          "execution_count": 42
        }
      ]
    },
    {
      "cell_type": "markdown",
      "source": [
        "### Desvio Padrão\n",
        "\n",
        "- Essa medida vai entrar em conjunto com a variância, pois ela vai trabalhar na mesma unidade que os dados originais.\n",
        "- A variância apresenta um valor discrepante ao conjunto original dos dados, com o desvio padrào fica mais fácil de correlacionar.\n",
        "\n",
        "$$\\sigma = \\sqrt{\\sigma^2}$$\n",
        "\n",
        "$\\sigma$ (Desvio padrão): Mede a dispersão dos dados em torno da média. Quanto menor o desvio padrão, mais próximos os dados estão da média.\n",
        "\n",
        "$\\sigma^2$ (Variância): Representa a **variância da população**. Mede a dispersão dos dados em relação à média $\\mu$. Um valor maior de $\\sigma^2$ indica maior dispersão dos dados.\n",
        "\n",
        "$\\sqrt{}$: Raiz quadrada da variância. Retorna à unidade original dos dados, tornando a interpretação mais fácil."
      ],
      "metadata": {
        "id": "NHFivhxEpoqd"
      }
    },
    {
      "cell_type": "code",
      "source": [
        "# Forma Manual\n",
        "desv = var **(1/2)\n",
        "desv\n",
        "\n",
        "# Utilizando pandas\n",
        "\n",
        "desv = alugueis.std()\n",
        "desv"
      ],
      "metadata": {
        "colab": {
          "base_uri": "https://localhost:8080/"
        },
        "id": "NQru7-fXsTll",
        "outputId": "761e3727-712a-47b6-8551-15244e30840e"
      },
      "execution_count": null,
      "outputs": [
        {
          "output_type": "execute_result",
          "data": {
            "text/plain": [
              "565.364768411297"
            ]
          },
          "metadata": {},
          "execution_count": 44
        }
      ]
    },
    {
      "cell_type": "markdown",
      "source": [
        "### Interpretando Desvio Padrão e Variância\n",
        "\n",
        "- Quanto maior eles forem em relação a média (tendência central).\n",
        "- Utilizar em conjunto com a tendência central para realizar comparações.\n",
        "- A média quem vai cravar o gráfico num local específico e o desvio padrão e seus valores vão realizando a dispersão, ficando menos ou mais dispersos."
      ],
      "metadata": {
        "id": "yAR0-URasg9x"
      }
    },
    {
      "cell_type": "code",
      "source": [
        "media = 100\n",
        "desvio = 5\n",
        "dados1 = np.random.normal(media, desvio, 1000)\n",
        "\n",
        "media = 130\n",
        "desvio = 5\n",
        "dados2 = np.random.normal(media, desvio, 1000)\n",
        "\n",
        "media = 100\n",
        "desvio = 10\n",
        "dados3 = np.random.normal(media, desvio, 1000)\n",
        "\n",
        "# Plotagem dos gráficos\n",
        "plt.figure()\n",
        "plt.subplot(221)\n",
        "plt.hist(dados1, 10)\n",
        "plt.xlabel('Classe')\n",
        "plt.ylabel('Quantidade')\n",
        "plt.title('Dados 1')\n",
        "plt.xlim(50, 150)\n",
        "plt.grid(True)\n",
        "\n",
        "plt.figure()\n",
        "plt.subplot(222)\n",
        "plt.hist(dados2, 10)\n",
        "plt.xlabel('Classe')\n",
        "plt.ylabel('Quantidade')\n",
        "plt.title('Dados 2')\n",
        "plt.xlim(50, 150)\n",
        "plt.grid(True)\n",
        "\n",
        "plt.figure()\n",
        "plt.subplot(223)\n",
        "plt.hist(dados3, 10)\n",
        "plt.xlabel('Classe')\n",
        "plt.ylabel('Quantidade')\n",
        "plt.title('Dados 3')\n",
        "plt.xlim(50, 150)\n",
        "plt.grid(True)"
      ],
      "metadata": {
        "colab": {
          "base_uri": "https://localhost:8080/",
          "height": 776
        },
        "id": "lGsNsWjStQ2S",
        "outputId": "fae6b6f6-c430-4f20-aab0-e064913a1bed"
      },
      "execution_count": null,
      "outputs": [
        {
          "output_type": "display_data",
          "data": {
            "text/plain": [
              "<Figure size 640x480 with 1 Axes>"
            ],
            "image/png": "[encoded data removed]"
          },
          "metadata": {}
        },
        {
          "output_type": "display_data",
          "data": {
            "text/plain": [
              "<Figure size 640x480 with 1 Axes>"
            ],
            "image/png": "[encoded data removed]"
          },
          "metadata": {}
        },
        {
          "output_type": "display_data",
          "data": {
            "text/plain": [
              "<Figure size 640x480 with 1 Axes>"
            ],
            "image/png": "[encoded data removed]"
          },
          "metadata": {}
        }
      ]
    },
    {
      "cell_type": "markdown",
      "source": [
        "## Medidas de Posição\n",
        "\n",
        "- Além de termos as medidas que nos informam a centralidade e a variação dos dados, temos as medidas de posição.\n",
        "- Essas medidas vão ajudar a definir a posição em que determinado se encontra dentro do conjunto em que ele está inserido.\n",
        "\n",
        "**Fractis**\n",
        "- São valores que dividem um conjunto de dados em partes iguais, como a mediana faz com um conjunto de dados.\n",
        "\n",
        "- A medida de posição mais usual é calculada com base nos quartis $Q_1$, $Q_2$, $Q_3$.\n",
        "  - Aproximadamente 1/4 (25%) dos dados abaixo do primeiro quartil.\n",
        "  - Aproximadamente metade dos dados abaixo do segundo quartil.\n",
        "  - Aproximadamente 3/4(75%) dos dados abaixo do terceiro quartil.\n",
        "\n",
        "**Cálculo dos Quartis**\n",
        "- Calcular a mediana do conjunto.\n",
        "- Dividir os dados com a mediana.\n",
        "- Encontrar a mediana da primeira parte - 25%\n",
        "- Encontrar a mediada da segunda parte - 75%\n",
        "\n",
        "**Exemplo: notas de 15 pessoas em uma prova**\n",
        "\n",
        "- 13 9 18 15 14 21 7 10 11 20 5 18 37 16 17\n",
        "- Ordena dados:\n",
        "  - 5 7 9 10 11 13 14 15 16 17 18 18 20 21 37\n",
        "- Encontra $Q_2$ (mediana):\n",
        "  - 5 7 9 10 11 **13** **14** 15 16 17 18 18 20 21 37\n",
        "- Encontra $Q_1$:\n",
        "  - 5 7 9 10 **11** 13 14 15 16 17 18 18 20 21 37\n",
        "- Encontra $Q_3$:\n",
        "  - 5 7 9 10 11 13 14 15 16 16 **17** 18 18 20 21 37\n",
        "\n",
        "**Interpretação**\n",
        "\n",
        "- Aproximadamente 1/4 dos funcionários obtém 10 ou menos.\n",
        "- Aproximadamente metade obtém 15 ou menos.\n",
        "- Aproximadamente 3/4 obtiveram 18 ou menos.\n",
        "- Aproximadamente 25% conseguirem mais de 18 pontos.\n",
        "- Os dados nos permitem várias interpretações, com base em suas posições e usamos uma medida de tenência central para isso, ou seja, as técnicas se complementam.\n",
        "- Um gráfico que podemos usar para avaliar esses dados é o **boxplot**.\n"
      ],
      "metadata": {
        "id": "CxyVgn3PusJr"
      }
    },
    {
      "cell_type": "code",
      "source": [
        "plt.boxplot(alugueis)\n",
        "plt.title('Boxplot do número de alugueis por dia')\n",
        "plt.xlabel(\"Quantidade\")\n",
        "plt.grid()\n",
        "plt.show()"
      ],
      "metadata": {
        "colab": {
          "base_uri": "https://localhost:8080/",
          "height": 472
        },
        "id": "wR3qU9N9y0JZ",
        "outputId": "e36860c4-2ab6-4a90-b00f-8bdeeac4ee72"
      },
      "execution_count": null,
      "outputs": [
        {
          "output_type": "display_data",
          "data": {
            "text/plain": [
              "<Figure size 640x480 with 1 Axes>"
            ],
            "image/png": "[encoded data removed]"
          },
          "metadata": {}
        }
      ]
    },
    {
      "cell_type": "markdown",
      "source": [
        "O gŕafico acima apresenta a seguinte análise:\n",
        "- O limite mínimo e máximo dos valores está entre **500** e **2.800**.\n",
        "- A largura da caixa em relação aos limites está pequena, ou seja, estão moderadamente mais concentrados em relação a mediana.\n",
        "- A mediana, localizada perto de 1500-1600.\n",
        "- Os quartis estão distribuídos de forma simétrica pela mediana, assim podemos deduzir que eles estão concentrados de forma simétrica.\n",
        "- Temos a presença de outliers, que fogem dos valores mínimos e máximos, são aqueles valores que fogem da relação que os outros possuem.\n",
        "\n",
        "**Avisos**\n",
        "- Vale ressaltar que esse box, é composto por 50% dos valores: 25% - 50% - 75% => 50%\n",
        "- Ele serve para vermos de maneira mais visual a disposição desses dados, não usamos ele para inferir com exatidão os valores, podemos validar suas tendências."
      ],
      "metadata": {
        "id": "qrjrl6UZ6dBN"
      }
    },
    {
      "cell_type": "markdown",
      "source": [
        "# Distribuições Amostrais\n",
        "\n",
        "- Quando podemos analisar toda a população, utilizamos as técnicas da estatística descritiva para analisar esses dados.\n",
        "- Caso não seja possível, são usadas técnicas de amsotragem, para selecionar um subconjunto dessas observações.\n",
        "- Essa amostra irá representar toda a população, ou seja, ao analisar a amostra, iremos generalizar ela definindo toda aquela população.\n",
        "- Escolher uma amostra de qualidade, implica numa melhor conclusão."
      ],
      "metadata": {
        "id": "FbUDCo4hwAcK"
      }
    },
    {
      "cell_type": "markdown",
      "source": [
        "## Noções de Amostragem\n",
        "\n",
        "- Um subconjunto que representa toda a população e que seja possível realziar inferências.\n",
        "- O uso de técnicas de amostragem apropriadas para produzir inferências.\n",
        "\n",
        "**Técnicas de Amostragem**\n",
        "- Amostragem Aleatória\n",
        "- Amostragem Estratificada\n",
        "- Amostragem Sistemática"
      ],
      "metadata": {
        "id": "cOx_AitTxcM-"
      }
    },
    {
      "cell_type": "markdown",
      "source": [
        "### Amostragem Aleatória\n",
        "\n",
        "- Todos os membros da população tem as mesmas chances de serem selecionados.\n",
        "- Uma grande chance de selecionar um grupo amostral representativo.\n",
        "- Para fazer essa seleção, basta selecionar os N elementos de um conjunto n, sem coloca-lo novamente no conjunto."
      ],
      "metadata": {
        "id": "z7O54Jp1xwix"
      }
    },
    {
      "cell_type": "code",
      "source": [
        "import random\n",
        "# Criando dataset\n",
        "alunos = [i for i in range(500)]\n",
        "\n",
        "# Selecionando alunos\n",
        "alunos_selecionados = random.sample(alunos, 50) # Amostragem\n",
        "alunos_selecionados"
      ],
      "metadata": {
        "colab": {
          "base_uri": "https://localhost:8080/"
        },
        "collapsed": true,
        "id": "PTJjWZOeya8i",
        "outputId": "cebf3229-fe16-4b84-e82d-c2b70599b363"
      },
      "execution_count": 2,
      "outputs": [
        {
          "output_type": "execute_result",
          "data": {
            "text/plain": [
              "[296,\n",
              " 276,\n",
              " 125,\n",
              " 309,\n",
              " 219,\n",
              " 205,\n",
              " 355,\n",
              " 15,\n",
              " 326,\n",
              " 468,\n",
              " 186,\n",
              " 209,\n",
              " 139,\n",
              " 306,\n",
              " 181,\n",
              " 168,\n",
              " 280,\n",
              " 299,\n",
              " 410,\n",
              " 370,\n",
              " 149,\n",
              " 465,\n",
              " 90,\n",
              " 396,\n",
              " 200,\n",
              " 310,\n",
              " 350,\n",
              " 41,\n",
              " 322,\n",
              " 311,\n",
              " 399,\n",
              " 304,\n",
              " 333,\n",
              " 408,\n",
              " 378,\n",
              " 165,\n",
              " 142,\n",
              " 442,\n",
              " 204,\n",
              " 252,\n",
              " 243,\n",
              " 451,\n",
              " 414,\n",
              " 61,\n",
              " 182,\n",
              " 174,\n",
              " 68,\n",
              " 108,\n",
              " 164,\n",
              " 456]"
            ]
          },
          "metadata": {},
          "execution_count": 2
        }
      ]
    },
    {
      "cell_type": "markdown",
      "source": [
        "### Amostragem Estratificada\n",
        "\n",
        "- Essa técnica de amostragem vai levar em consideração as características de uma população.\n",
        "- É indicada para uma população que possui muitas features, ou seja, diversos segmentos.\n",
        "- A amostragem aleatória pode se tornar enviezada nesses casos, então com essa técnica, podemos realizar uma seleção mais equilibrada.\n",
        "- Vai assegurar que segmento seja representado.\n",
        "\n",
        "**Método para realizar amostragem estratificada**\n",
        "- Divide a população em grupos com características semelhantes. (Estratos)\n",
        "  - Os estratos devem ter como base a característica que está sendo analisada.\n",
        "- Escolhe-se de forma aleatória, elementos de cada um desses estratos."
      ],
      "metadata": {
        "id": "6BTyQFTex8fv"
      }
    },
    {
      "cell_type": "code",
      "source": [
        "\n",
        "# Lista de nomes de alunos de cada sala\n",
        "sala1 = [\"João\", \"Pedro\", \"Lucas\", \"Mateus\", \"Marcos\", \"Isabela\", \"Helena\", \"Alice\", \"Bartolomeu\", \"Tomé\", \"Judas\", \"Simão\", \"Paulo\", \"Bernardo\", \"Rafael\"]\n",
        "sala2 = [\"Maria\", \"Ana\", \"Laura\", \"Júlia\", \"Luiza\", \"Clara\", \"Gabriela\", \"Lívia\"]\n",
        "sala3 = [\"Tiago\", \"André\", \"Filipe\",\"Sofia\", \"Beatriz\", \"Manuela\", \"Valentina\"]\n",
        "\n",
        "# Selecionando 3 alunos de cada turma (estratos)\n",
        "\n",
        "alunos_selecionados = []\n",
        "alunos_selecionados.append(random.sample(sala1, 3))\n",
        "alunos_selecionados.append(random.sample(sala2, 3))\n",
        "alunos_selecionados.append(random.sample(sala3, 3))\n",
        "\n",
        "alunos_selecionados"
      ],
      "metadata": {
        "colab": {
          "base_uri": "https://localhost:8080/"
        },
        "id": "JUTvAEJVz4eu",
        "outputId": "842d77f0-9140-4e77-e878-3ed338192b93"
      },
      "execution_count": 5,
      "outputs": [
        {
          "output_type": "execute_result",
          "data": {
            "text/plain": [
              "[['Bernardo', 'Isabela', 'Paulo'],\n",
              " ['Luiza', 'Maria', 'Lívia'],\n",
              " ['Beatriz', 'Tiago', 'Valentina']]"
            ]
          },
          "metadata": {},
          "execution_count": 5
        }
      ]
    },
    {
      "cell_type": "markdown",
      "source": [
        "### Amostragem Sistemática\n",
        "\n",
        "- É uma amostra na qual vamos atribuir um número (index) para cada membro de uma população.\n",
        "- Os membros serão ordenados com base em algum sistema de ordenação.\n",
        "- APós isso é determinado um número inicial aleatório e com base nele, vamos selecionar em intervalos regulares mais dados."
      ],
      "metadata": {
        "id": "zTzx-tcUyAmc"
      }
    },
    {
      "cell_type": "code",
      "source": [
        "# criando base de dados\n",
        "residencias = [i for i in range(100)]\n",
        "\n",
        "numero = random.sample(residencias, 1)[0]\n",
        "\n",
        "residencias_selecionadas = [residencias[i] for i in range(numero, len(residencias), 10)]\n",
        "residencias_selecionadas"
      ],
      "metadata": {
        "colab": {
          "base_uri": "https://localhost:8080/"
        },
        "id": "cMadI-0I17Ib",
        "outputId": "01dc6bd3-2923-4620-cfd2-1f2f0973c836"
      },
      "execution_count": 13,
      "outputs": [
        {
          "output_type": "execute_result",
          "data": {
            "text/plain": [
              "[51, 61, 71, 81, 91]"
            ]
          },
          "metadata": {},
          "execution_count": 13
        }
      ]
    },
    {
      "cell_type": "markdown",
      "source": [
        "### Variáveis Aleatórias\n",
        "\n",
        "- Nada mais é que uma variável que assumi valores diferentes em cada análise.\n",
        "- Nas técnicas de amostragem, tinhamos algumas variáveis aleatórias, como a seleção do ponto inicial, ou até mesmo a seleção de elementos dos estratos.\n",
        "- São capazes de assumir valores diferentes, e até mesmo repetir algum valor já processado.\n",
        "\n",
        "$$\n",
        "\\overline{x} = \\frac{\\sum_{i=1}^n x_i}{n}\n",
        "$$\n",
        "\n",
        "**Onde:**\n",
        "- $\\overline{x}$: Representa a média amostral, ou seja, o valor médio dos elementos na amostra.\n",
        "- $x_i$: Cada valor individual presente na amostra, onde $i$ varia de $1$ a $n$.\n",
        "- $n$: O número total de elementos na amostra.\n",
        "- $\\sum$: Representa o somatório.\n",
        "- $\\sum_{i=1}^n x_i$: É o somatório de todos os valores $x_1, x_2, \\ldots, x_n$ da amostra.\n",
        "\n",
        "\n",
        "**Divisão das Variáveis Aleatórias**\n",
        "- **Discreta:** Tem um valor finito e contável (números inteiros).\n",
        "- **Contínuo:** Tem um valor incontável de possíveis resultados, tendem ao infinito, sendo representados por uma reta (números float)."
      ],
      "metadata": {
        "id": "T-ZSj7HL5sat"
      }
    },
    {
      "cell_type": "markdown",
      "source": [
        "### Distribuição de Probabilidades Discretas\n",
        "\n",
        "- Para cada valor discreto que nossa variável aleatória pode assumir, podemos listar a probabilidade que cada valor tem de ser selecionado.\n",
        "- Uma lista com cada valor possível que nossa variável pode assumir, junto com usa probabilidade\n",
        "- O range de probabilidade para cada um dos valores é entre 0 e 1\n",
        "- A soma de todos os valores probabilísticos é 1\n",
        "- A distribuiçào de probablidade é justamente a frequência relativa que já estudamos anteriormente, quando aprendemos a montar as tabelas de frequência.\n",
        "\n",
        "**Tipos de Distribuição:**\n",
        "- Distribuição de Bernouli\n",
        "- Distribuição de Binomial\n",
        "- Distribuição de Poisson\n",
        "..."
      ],
      "metadata": {
        "id": "UNuGdFdk7rgU"
      }
    },
    {
      "cell_type": "code",
      "source": [
        "import matplotlib.pyplot as plt\n",
        "\n",
        "x = [1, 2, 3, 4, 5]\n",
        "probabilidades = [0.16, 0.22, 0.28, 0.20, 0.14]\n",
        "\n",
        "plt.bar(x, probabilidades)\n",
        "plt.xlabel('x')\n",
        "plt.ylabel('P(x)')\n",
        "plt.title('Distribuição de Probabilidades')\n",
        "plt.grid(True)\n",
        "plt.show()"
      ],
      "metadata": {
        "colab": {
          "base_uri": "https://localhost:8080/",
          "height": 472
        },
        "id": "8TEQjH2g-DyK",
        "outputId": "e8dd2c76-77b0-4eed-f6cb-d2c4b8d715ae"
      },
      "execution_count": 15,
      "outputs": [
        {
          "output_type": "display_data",
          "data": {
            "text/plain": [
              "<Figure size 640x480 with 1 Axes>"
            ],
            "image/png": "[encoded data removed]"
          },
          "metadata": {}
        }
      ]
    },
    {
      "cell_type": "markdown",
      "source": [
        "### Distribuição de Bernouli\n",
        "\n",
        "- É a distribuição que serve para um cenário fixo, quandoe existem apenas dois resultados possíveis: sucesso(p) ou fracasso(q).\n",
        "- Esses experimentos no qual a variável só assuma apenas 2 valores, são chamados de **ensaios de bernouli**.\n",
        "- A probabilidade de sucesso é a mesma sempre a cada tentativa.\n",
        "- **Soma das probabilidades**\n",
        "\n",
        "  $$\n",
        "  p + q = 1\n",
        "  $$\n",
        "\n",
        "- **Média**:\n",
        "  $$\n",
        "  \\overline{x} = \\mathbb{E}(X) = p\n",
        "  $$\n",
        "\n",
        "  Onde:\n",
        "  - $\\overline{x}$ ou $\\mathbb{E}(X)$: Representa o valor esperado (média) da distribuição.\n",
        "  - $p$: Probabilidade de sucesso.\n",
        "\n",
        "- **Variância**:\n",
        "  $$\n",
        "  s^2 = \\text{VAR}(X) = p(1-p) = p \\cdot q\n",
        "  $$\n",
        "\n",
        "  Onde:\n",
        "  - $s^2$ ou $\\text{VAR}(X)$: Representa a variância da distribuição.\n",
        "  - $p$: Probabilidade de sucesso.\n",
        "  - $q = 1-p$: Probabilidade de falha.\n"
      ],
      "metadata": {
        "id": "iTosT1tu-544"
      }
    },
    {
      "cell_type": "code",
      "source": [
        "import numpy as np\n",
        "brancas = [0]*30\n",
        "verdes = [1]*20\n",
        "\n",
        "urna = brancas + verdes\n",
        "\n",
        "np.mean(urna)\n",
        "np.var(urna)\n",
        "\n",
        "print(np.mean(urna), round(np.var(urna), 2))"
      ],
      "metadata": {
        "colab": {
          "base_uri": "https://localhost:8080/"
        },
        "id": "Ogfi22RVAqjT",
        "outputId": "a6f68909-1b19-43ff-c85a-b7909c8c0abd"
      },
      "execution_count": 20,
      "outputs": [
        {
          "output_type": "stream",
          "name": "stdout",
          "text": [
            "0.4 0.24\n"
          ]
        }
      ]
    }
  ]
}