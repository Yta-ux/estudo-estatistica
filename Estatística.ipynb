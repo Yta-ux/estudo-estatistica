{
  "nbformat": 4,
  "nbformat_minor": 0,
  "metadata": {
    "colab": {
      "provenance": [],
      "mount_file_id": "1Tju04imywO5xDK347T7VhHHJVqMv0r8h",
      "authorship_tag": "ABX9TyNOLrzTh53TPaJxmGH/Vcgs",
      "include_colab_link": true
    },
    "kernelspec": {
      "name": "python3",
      "display_name": "Python 3"
    },
    "language_info": {
      "name": "python"
    }
  },
  "cells": [
    {
      "cell_type": "markdown",
      "metadata": {
        "id": "view-in-github",
        "colab_type": "text"
      },
      "source": [
        "<a href=\"https://colab.research.google.com/github/Yta-ux/estudo-estatistica/blob/main/Estat%C3%ADstica.ipynb\" target=\"_parent\"><img src=\"https://colab.research.google.com/assets/colab-badge.svg\" alt=\"Open In Colab\"/></a>"
      ]
    },
    {
      "cell_type": "markdown",
      "source": [
        "# Estatística e Probabilidade\n",
        "\n",
        "É a ciência que coleta, organiza, analisa e interpreta dados para tomada de decisão.\n",
        "- Dados são informações que vêm de observações, contagens, medições ou respostas"
      ],
      "metadata": {
        "id": "UMb0Hp6ZA03n"
      }
    },
    {
      "cell_type": "markdown",
      "source": [
        "## População e Amostra\n",
        "\n",
        "**População** são todos os dados do nosso conjunto de estudo, ou seja, dados de todo o universo a ser estudado naquele momento.\n",
        "**Amostra** é um subconjunto dessa população, uma parcela que represente ela para que sejam realizadas inferências.\n",
        "\n",
        "> Dados coletados de forma correta, irão fornecer inferências corretas.\n",
        "\n"
      ],
      "metadata": {
        "id": "ShORC3gwB_CO"
      }
    },
    {
      "cell_type": "markdown",
      "source": [
        "## Estatística Descritiva e Inferencial\n",
        "\n",
        "**Estatística Descritiva:** Ramo da estatística que trabalha com o conjunto universo, organizando, resumindo e representando os dados.\n",
        "\n",
        "**Estatística Inferencial:**Ramo que envolve o trabalho com amostras para chegar a conclusões sobre uma população - probabilidade"
      ],
      "metadata": {
        "id": "Q3d9n1PZClYC"
      }
    },
    {
      "cell_type": "markdown",
      "source": [
        "# Estatística Descritiva\n",
        "\n",
        "Fornece métodos para organização e descrição do conjunto de dados. Sendo aplicado em uma coleta de população.\n",
        "\n",
        "Tem como objetivo tornar os dados mais fáceis de serem entendidos."
      ],
      "metadata": {
        "id": "1fCkaMbGDQDU"
      }
    },
    {
      "cell_type": "markdown",
      "source": [
        "## Distribuição de Frequência\n",
        "\n",
        "- Sua ideia principal é agrupar intervalos chamados de classes, e atribui-los a uma frequência.\n",
        "\n",
        "- Fornece uma organização para dados brutos.\n",
        "\n",
        "- Dispõe os dados com base nas ocorrências de cada uma das classes.\n",
        "\n",
        "- As classes possuem seu limite inferior e superior, a distância entre esses limites (intervalo fechado) é chamada de **largura**."
      ],
      "metadata": {
        "id": "O4MYbrVjDnhk"
      }
    },
    {
      "cell_type": "markdown",
      "source": [],
      "metadata": {
        "id": "grmHdiVaDGIP"
      }
    },
    {
      "cell_type": "code",
      "source": [
        "import pandas as pd\n",
        "\n",
        "# Definição do número de classes e seleção da base de dados\n",
        "n_classes = 5\n",
        "data = pd.read_csv('/content/drive/MyDrive/Colab Notebooks/day.csv')\n",
        "alugueis = data.cnt\n",
        "\n",
        "\n",
        "# Encontrar a amplitude dos dados\n",
        "\n",
        "maior = max(alugueis)\n",
        "menor = min(alugueis)\n",
        "amplitude = maior - menor\n",
        "\n",
        "# Encontrar a amplitude das classes\n",
        "\n",
        "amplitude_classe = round(amplitude/n_classes) # Mesma coisa que a largura da classe\n",
        "\n",
        "# Limites de classes\n",
        "limites_inf = [menor]\n",
        "\n",
        "for x in range(n_classes):\n",
        "  limites_inf.append(limites_inf[x]+amplitude_classe)\n",
        "\n",
        "limites_inf\n",
        "\n",
        "# Contar ocorrências nas classes\n",
        "frequencias = {'classe1':0, 'classe2':0, 'classe3':0, 'classe4':0, 'classe5':0}\n",
        "\n",
        "for numero in alugueis:\n",
        "  if numero < limites_inf[1]:\n",
        "    frequencias['classe1'] +=1\n",
        "  elif numero < limites_inf[2]:\n",
        "    frequencias['classe2'] +=1\n",
        "  elif numero < limites_inf[3]:\n",
        "    frequencias['classe3'] +=1\n",
        "  elif numero < limites_inf[5]:\n",
        "    frequencias['classe4'] +=1\n",
        "  else:\n",
        "    frequencias['classe5'] +=1\n",
        "\n",
        "frequencias"
      ],
      "metadata": {
        "colab": {
          "base_uri": "https://localhost:8080/"
        },
        "id": "rbBM_6g2EqMp",
        "outputId": "d4f80098-a5bf-43b2-993c-d15a307fbbf1"
      },
      "execution_count": null,
      "outputs": [
        {
          "output_type": "execute_result",
          "data": {
            "text/plain": [
              "{'classe1': 11, 'classe2': 27, 'classe3': 30, 'classe4': 12, 'classe5': 0}"
            ]
          },
          "metadata": {},
          "execution_count": 1
        }
      ]
    },
    {
      "cell_type": "markdown",
      "source": [
        "### Frequência Relativa\n",
        "\n",
        "- É baseada no percentual de frequência que determinada classe possui.\n",
        "- Alteraçãoo nos dados da escala.\n",
        "- Para conseguir essa medida, basta pegar as frequências coletadas e dividir pelas ocorrências (quantidade máxima do array)"
      ],
      "metadata": {
        "id": "Mal5tPhrKEaJ"
      }
    },
    {
      "cell_type": "code",
      "source": [
        "n_ocorrencias = len(alugueis)\n",
        "\n",
        "for classe in frequencias:\n",
        "  frequencias[classe] = (frequencias[classe] / n_ocorrencias) * 100\n",
        "frequencias"
      ],
      "metadata": {
        "colab": {
          "base_uri": "https://localhost:8080/"
        },
        "id": "lRAi3MNSKtV0",
        "outputId": "b31486b6-8c92-42a3-e38c-c90a81913ca4"
      },
      "execution_count": null,
      "outputs": [
        {
          "output_type": "execute_result",
          "data": {
            "text/plain": [
              "{'classe1': 13.750000000000002,\n",
              " 'classe2': 33.75,\n",
              " 'classe3': 37.5,\n",
              " 'classe4': 15.0,\n",
              " 'classe5': 0.0}"
            ]
          },
          "metadata": {},
          "execution_count": 32
        }
      ]
    },
    {
      "cell_type": "markdown",
      "source": [
        "### Histograma de Frequência\n",
        "\n",
        "- Gráfico que facilita a visualização dos dados.\n",
        "- Um historigrama de frequência é um diagrama com barras que representam a distribuição de frequência de um conjunto de dados.\n",
        "- Propriedades:\n",
        "  - A escala horizontal representa os valores das faixas de cada classe.\n",
        "  - A escala vertical mede a frequência de cada classe.\n",
        "  - As barras consecutivas devem estar encostadas umas nas outras.\n",
        "\n"
      ],
      "metadata": {
        "id": "w-MmsT9ALZhH"
      }
    },
    {
      "cell_type": "code",
      "source": [
        "import matplotlib.pyplot as plt\n",
        "\n",
        "plt.hist(alugueis, 5)\n",
        "plt.xlabel('Classes')\n",
        "plt.ylabel('Quantidade')\n",
        "plt.title('Ocorrências das Classes')\n",
        "plt.grid(True)\n",
        "plt.show()"
      ],
      "metadata": {
        "colab": {
          "base_uri": "https://localhost:8080/",
          "height": 472
        },
        "id": "yzm5Rsm_MX1n",
        "outputId": "f638ab78-7ecb-43cd-b00d-0f995279ab61"
      },
      "execution_count": null,
      "outputs": [
        {
          "output_type": "display_data",
          "data": {
            "text/plain": [
              "<Figure size 640x480 with 1 Axes>"
            ],
            "image/png": "[encoded data removed]"
          },
          "metadata": {}
        }
      ]
    },
    {
      "cell_type": "markdown",
      "source": [
        "## Medidas de Tendência Central\n",
        "- São medidas que buscam descrever um conjunto de dados a partir de um valor central.\n",
        "- As distribuições de frequências e os gráficos de frequência são poderosas ferramentas."
      ],
      "metadata": {
        "id": "BV4MY9L6NMEz"
      }
    },
    {
      "cell_type": "markdown",
      "source": [
        "### Média\n",
        "\n",
        "- Medida mais conhecida e aplicada no meio estatístico.\n",
        "- Méda é soma de todos os valores dividido pela quantidade total desses valores.\n",
        "\n",
        "$$\n",
        "\\overline{x} = \\frac{\\sum_{i=1}^n x_i}{n}\n",
        "$$\n",
        "\n",
        "- $\\overline{x}$ : Representa a média simples.\n",
        "- $x_i$ : É o valor de cada elemento (ou dado) que será considerado.\n",
        "- $n$ : É o número total de elementos considerados na média.\n",
        "- $\\sum$ : Representa o somatório.\n",
        "- $\\sum_{i=1}^n x_i$ : É o somatório de todos os valores dos elementos.\n",
        "\n"
      ],
      "metadata": {
        "id": "Mg116A2rNwz1"
      }
    },
    {
      "cell_type": "code",
      "source": [
        "import numpy as np\n",
        "\n",
        "# Usando python nativo\n",
        "media_alugueis = sum(alugueis)/len(alugueis)\n",
        "\n",
        "# Usando a lib numpy\n",
        "\n",
        "np.mean(alugueis)"
      ],
      "metadata": {
        "colab": {
          "base_uri": "https://localhost:8080/"
        },
        "id": "XJsaZMTDOG-1",
        "outputId": "c274250d-57cc-430a-b601-a1d073e51444"
      },
      "execution_count": null,
      "outputs": [
        {
          "output_type": "execute_result",
          "data": {
            "text/plain": [
              "1621.0875"
            ]
          },
          "metadata": {},
          "execution_count": 36
        }
      ]
    },
    {
      "cell_type": "markdown",
      "source": [
        "### Mediana\n",
        "\n",
        "- Será o valor que está exatamente no meio de um conjunto de dados ordenado.\n",
        "- Divide o conjunto de dados em duas partes.\n",
        "- Se o conjunto for ímpar, a mediana é a entrada de dados do meio.\n",
        "- Se for par, a entrada será uma média das duas entradas do meio."
      ],
      "metadata": {
        "id": "fCR1D7hTOrHv"
      }
    },
    {
      "cell_type": "code",
      "source": [
        "# Ordena o conjunto de dados\n",
        "alugueis = sorted(alugueis)\n",
        "\n",
        "# Calcula o valor da mediana com base na quantidade de elementos do conjunto\n",
        "\n",
        "if len(alugueis) % 2 == 0:\n",
        "  indice = (len(alugueis) - 1) // 2\n",
        "  mediana = (alugueis[indice] + alugueis[ indice + 1]) / 2\n",
        "else:\n",
        "  mediana = alugueis[len(alugueis) / 2]\n",
        "\n",
        "\n",
        "# Calculando a mediana com numpy\n",
        "np.median(alugueis)"
      ],
      "metadata": {
        "colab": {
          "base_uri": "https://localhost:8080/"
        },
        "id": "CUidNnYaPFve",
        "outputId": "1990f83a-d966-4981-94ab-8f610fc12c36"
      },
      "execution_count": null,
      "outputs": [
        {
          "output_type": "execute_result",
          "data": {
            "text/plain": [
              "1594.5"
            ]
          },
          "metadata": {},
          "execution_count": 43
        }
      ]
    },
    {
      "cell_type": "markdown",
      "source": [
        "### Moda\n",
        "\n",
        "- É o conjunto de dados com base na ocorrência de determinado valor.\n",
        "- Se nenhuma ocorrência se repetir, a moda não vai existir\n"
      ],
      "metadata": {
        "id": "iUhWxHiURTwu"
      }
    },
    {
      "cell_type": "markdown",
      "source": [],
      "metadata": {
        "id": "QhP67SxWB9iG"
      }
    },
    {
      "cell_type": "code",
      "source": [
        "# Criando array\n",
        "contagens = [0]*len(alugueis)\n",
        "\n",
        "# Contando ocorrências\n",
        "for i in range(len(alugueis)):\n",
        "  contagens[i] = alugueis.count(alugueis[i])\n",
        "\n",
        "contagens\n",
        "max(contagens)\n",
        "\n",
        "\n",
        "indices_moda = np.where(np.array(contagens) == max(contagens))\n",
        "for indice in indices_moda[0]:\n",
        "  print(alugueis[indice])"
      ],
      "metadata": {
        "colab": {
          "base_uri": "https://localhost:8080/",
          "height": 211
        },
        "id": "G_1lPjvzPvpq",
        "outputId": "e8dea0f9-2f14-42bb-c549-63178feac445"
      },
      "execution_count": null,
      "outputs": [
        {
          "output_type": "error",
          "ename": "TypeError",
          "evalue": "Series.count() takes 1 positional argument but 2 were given",
          "traceback": [
            "\u001b[0;31m---------------------------------------------------------------------------\u001b[0m",
            "\u001b[0;31mTypeError\u001b[0m                                 Traceback (most recent call last)",
            "\u001b[0;32m<ipython-input-2-294a417a0160>\u001b[0m in \u001b[0;36m<cell line: 5>\u001b[0;34m()\u001b[0m\n\u001b[1;32m      4\u001b[0m \u001b[0;31m# Contando ocorrências\u001b[0m\u001b[0;34m\u001b[0m\u001b[0;34m\u001b[0m\u001b[0m\n\u001b[1;32m      5\u001b[0m \u001b[0;32mfor\u001b[0m \u001b[0mi\u001b[0m \u001b[0;32min\u001b[0m \u001b[0mrange\u001b[0m\u001b[0;34m(\u001b[0m\u001b[0mlen\u001b[0m\u001b[0;34m(\u001b[0m\u001b[0malugueis\u001b[0m\u001b[0;34m)\u001b[0m\u001b[0;34m)\u001b[0m\u001b[0;34m:\u001b[0m\u001b[0;34m\u001b[0m\u001b[0;34m\u001b[0m\u001b[0m\n\u001b[0;32m----> 6\u001b[0;31m   \u001b[0mcontagens\u001b[0m\u001b[0;34m[\u001b[0m\u001b[0mi\u001b[0m\u001b[0;34m]\u001b[0m \u001b[0;34m=\u001b[0m \u001b[0malugueis\u001b[0m\u001b[0;34m.\u001b[0m\u001b[0mcount\u001b[0m\u001b[0;34m(\u001b[0m\u001b[0malugueis\u001b[0m\u001b[0;34m[\u001b[0m\u001b[0mi\u001b[0m\u001b[0;34m]\u001b[0m\u001b[0;34m)\u001b[0m\u001b[0;34m\u001b[0m\u001b[0;34m\u001b[0m\u001b[0m\n\u001b[0m\u001b[1;32m      7\u001b[0m \u001b[0;34m\u001b[0m\u001b[0m\n\u001b[1;32m      8\u001b[0m \u001b[0mcontagens\u001b[0m\u001b[0;34m\u001b[0m\u001b[0;34m\u001b[0m\u001b[0m\n",
            "\u001b[0;31mTypeError\u001b[0m: Series.count() takes 1 positional argument but 2 were given"
          ]
        }
      ]
    },
    {
      "cell_type": "markdown",
      "source": [
        "### Qual medida de tendência central eu devo utilizar?\n",
        "\n",
        "- Média e Mediana são as mais comuns e utilizadas.\n",
        "- Média é influenciadas por valores discrepantes (outliers).\n",
        "- Mediana não é afetada por esses valores."
      ],
      "metadata": {
        "id": "Gca42mCwS5fn"
      }
    },
    {
      "cell_type": "markdown",
      "source": [
        "### Média Ponderada\n",
        "\n",
        "- Média utilizada quando temos um cojunto de valores possui um grau de importância.\n",
        "- Adicionar pesos nos valores que são necessários.\n",
        "- É o valor * o peso, tudo isso dividido pela soma dos pesos.\n",
        "\n",
        "$$\n",
        "\\overline{x} = \\frac{\\sum_{i=1}^n w_i x_i}{\\sum_{i=1}^n w_i}\n",
        "$$\n",
        "\n",
        "**Onde:**\n",
        "\n",
        "- $\\overline{x}$ : Representa a média ponderada.\n",
        "- $x_i$ : É o valor de cada elemento (ou dado) que será considerado.\n",
        "- $w_i$ : É o peso atribuído ao elemento $x_i$, indicando sua relevância ou importância.\n",
        "- $n$ : É o número total de elementos considerados na média.\n",
        "- $\\sum$ : Representa o somatório.\n",
        "- $\\sum_{i=1}^n w_i x_i$ : É o somatório do produto entre cada valor $x_i$ e seu respectivo peso $w_i$.\n",
        "- $\\sum_{i=1}^n w_i$ : É o somatório dos pesos atribuídos aos elementos."
      ],
      "metadata": {
        "id": "clVnQ_t-TkOu"
      }
    },
    {
      "cell_type": "markdown",
      "source": [
        "## Medidas de Variação"
      ],
      "metadata": {
        "id": "wANuq2TYZtIG"
      }
    },
    {
      "cell_type": "markdown",
      "source": [],
      "metadata": {
        "id": "5uwLlDOOdXhc"
      }
    }
  ]
}