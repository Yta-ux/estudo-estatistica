{
  "nbformat": 4,
  "nbformat_minor": 0,
  "metadata": {
    "colab": {
      "provenance": [],
      "mount_file_id": "1Tju04imywO5xDK347T7VhHHJVqMv0r8h",
      "authorship_tag": "ABX9TyOOnLN2Lae5wunS+uuGC/Ma",
      "include_colab_link": true
    },
    "kernelspec": {
      "name": "python3",
      "display_name": "Python 3"
    },
    "language_info": {
      "name": "python"
    }
  },
  "cells": [
    {
      "cell_type": "markdown",
      "metadata": {
        "id": "view-in-github",
        "colab_type": "text"
      },
      "source": [
        "<a href=\"https://colab.research.google.com/github/Yta-ux/estudo-estatistica/blob/main/Estat%C3%ADstica.ipynb\" target=\"_parent\"><img src=\"https://colab.research.google.com/assets/colab-badge.svg\" alt=\"Open In Colab\"/></a>"
      ]
    },
    {
      "cell_type": "markdown",
      "source": [
        "# Estatística e Probabilidade\n",
        "\n",
        "É a ciência que coleta, organiza, analisa e interpreta dados para tomada de decisão.\n",
        "- Dados são informações que vêm de observações, contagens, medições ou respostas"
      ],
      "metadata": {
        "id": "UMb0Hp6ZA03n"
      }
    },
    {
      "cell_type": "markdown",
      "source": [
        "## População e Amostra\n",
        "\n",
        "**População** são todos os dados do nosso conjunto de estudo, ou seja, dados de todo o universo a ser estudado naquele momento.\n",
        "**Amostra** é um subconjunto dessa população, uma parcela que represente ela para que sejam realizadas inferências.\n",
        "\n",
        "> Dados coletados de forma correta, irão fornecer inferências corretas.\n",
        "\n"
      ],
      "metadata": {
        "id": "ShORC3gwB_CO"
      }
    },
    {
      "cell_type": "markdown",
      "source": [
        "## Estatística Descritiva e Inferencial\n",
        "\n",
        "**Estatística Descritiva:** Ramo da estatística que trabalha com o conjunto universo, organizando, resumindo e representando os dados.\n",
        "\n",
        "**Estatística Inferencial:**Ramo que envolve o trabalho com amostras para chegar a conclusões sobre uma população - probabilidade"
      ],
      "metadata": {
        "id": "Q3d9n1PZClYC"
      }
    },
    {
      "cell_type": "markdown",
      "source": [
        "# Estatística Descritiva\n",
        "\n",
        "Fornece métodos para organização e descrição do conjunto de dados. Sendo aplicado em uma coleta de população.\n",
        "\n",
        "Tem como objetivo tornar os dados mais fáceis de serem entendidos."
      ],
      "metadata": {
        "id": "1fCkaMbGDQDU"
      }
    },
    {
      "cell_type": "markdown",
      "source": [
        "## Distribuição de Frequência\n",
        "\n",
        "- Sua ideia principal é agrupar intervalos chamados de classes, e atribui-los a uma frequência.\n",
        "\n",
        "- Fornece uma organização para dados brutos.\n",
        "\n",
        "- Dispõe os dados com base nas ocorrências de cada uma das classes.\n",
        "\n",
        "- As classes possuem seu limite inferior e superior, a distância entre esses limites (intervalo fechado) é chamada de **largura**."
      ],
      "metadata": {
        "id": "O4MYbrVjDnhk"
      }
    },
    {
      "cell_type": "markdown",
      "source": [],
      "metadata": {
        "id": "grmHdiVaDGIP"
      }
    },
    {
      "cell_type": "code",
      "source": [
        "import pandas as pd\n",
        "\n",
        "# Definição do número de classes e seleção da base de dados\n",
        "n_classes = 5\n",
        "data = pd.read_csv('/content/drive/MyDrive/Colab Notebooks/day.csv')\n",
        "alugueis = data.cnt\n",
        "\n",
        "\n",
        "# Encontrar a amplitude dos dados\n",
        "\n",
        "maior = max(alugueis)\n",
        "menor = min(alugueis)\n",
        "amplitude = maior - menor\n",
        "\n",
        "# Encontrar a amplitude das classes\n",
        "\n",
        "amplitude_classe = round(amplitude/n_classes) # Mesma coisa que a largura da classe\n",
        "\n",
        "# Limites de classes\n",
        "limites_inf = [menor]\n",
        "\n",
        "for x in range(n_classes):\n",
        "  limites_inf.append(limites_inf[x]+amplitude_classe)\n",
        "\n",
        "limites_inf\n",
        "\n",
        "# Contar ocorrências nas classes\n",
        "frequencias = {'classe1':0, 'classe2':0, 'classe3':0, 'classe4':0, 'classe5':0}\n",
        "\n",
        "for numero in alugueis:\n",
        "  if numero < limites_inf[1]:\n",
        "    frequencias['classe1'] +=1\n",
        "  elif numero < limites_inf[2]:\n",
        "    frequencias['classe2'] +=1\n",
        "  elif numero < limites_inf[3]:\n",
        "    frequencias['classe3'] +=1\n",
        "  elif numero < limites_inf[5]:\n",
        "    frequencias['classe4'] +=1\n",
        "  else:\n",
        "    frequencias['classe5'] +=1\n",
        "\n",
        "# frequencias"
      ],
      "metadata": {
        "colab": {
          "base_uri": "https://localhost:8080/",
          "height": 0
        },
        "id": "rbBM_6g2EqMp",
        "outputId": "032f7b0d-5f96-42cd-f6e5-988cb4529495"
      },
      "execution_count": 21,
      "outputs": [
        {
          "output_type": "stream",
          "name": "stdout",
          "text": [
            "431\n",
            "993\n",
            "1555\n",
            "2117\n",
            "2679\n"
          ]
        }
      ]
    },
    {
      "cell_type": "markdown",
      "source": [
        "### Frequência Relativa\n",
        "\n",
        "- É baseada no percentual de frequência que determinada classe possui.\n",
        "- Alteraçãoo nos dados da escala.\n",
        "- Para conseguir essa medida, basta pegar as frequências coletadas e dividir pelas ocorrências (quantidade máxima do array)"
      ],
      "metadata": {
        "id": "Mal5tPhrKEaJ"
      }
    },
    {
      "cell_type": "code",
      "source": [
        "n_ocorrencias = len(alugueis)\n",
        "\n",
        "for classe in frequencias:\n",
        "  frequencias[classe] = (frequencias[classe] / n_ocorrencias) * 100\n",
        "frequencias"
      ],
      "metadata": {
        "colab": {
          "base_uri": "https://localhost:8080/",
          "height": 0
        },
        "id": "lRAi3MNSKtV0",
        "outputId": "5e8811b4-0b52-4572-9890-243c9ee468f8"
      },
      "execution_count": 24,
      "outputs": [
        {
          "output_type": "execute_result",
          "data": {
            "text/plain": [
              "{'classe1': 0.0,\n",
              " 'classe2': 0.0,\n",
              " 'classe3': 0.0,\n",
              " 'classe4': 0.0,\n",
              " 'classe5': 0.0}"
            ]
          },
          "metadata": {},
          "execution_count": 24
        }
      ]
    },
    {
      "cell_type": "markdown",
      "source": [
        "### Histograma de Frequência\n",
        "\n",
        "- Gráfico que facilita a visualização dos dados.\n",
        "- Um historigrama de frequência é um diagrama com barras que representam a distribuição de frequência de um conjunto de dados.\n",
        "- Propriedades:\n",
        "  - A escala horizontal representa os valores das faixas de cada classe.\n",
        "  - A escala vertical mede a frequência de cada classe.\n",
        "  - As barras consecutivas devem estar encostadas umas nas outras.\n",
        "\n"
      ],
      "metadata": {
        "id": "w-MmsT9ALZhH"
      }
    },
    {
      "cell_type": "code",
      "source": [
        "import matplotlib.pyplot as plt\n",
        "\n",
        "plt.hist(alugueis, 5)\n",
        "plt.xlabel('Classes')\n",
        "plt.ylabel('Quantidade')\n",
        "plt.title('Ocorrências das Classes')\n",
        "plt.grid(True)\n",
        "plt.show()"
      ],
      "metadata": {
        "colab": {
          "base_uri": "https://localhost:8080/",
          "height": 472
        },
        "id": "yzm5Rsm_MX1n",
        "outputId": "d4037be5-15eb-485f-95c0-63a271937731"
      },
      "execution_count": 3,
      "outputs": [
        {
          "output_type": "display_data",
          "data": {
            "text/plain": [
              "<Figure size 640x480 with 1 Axes>"
            ],
            "image/png": "[encoded data removed]"
          },
          "metadata": {}
        }
      ]
    },
    {
      "cell_type": "markdown",
      "source": [
        "## Medidas de Tendência Central\n",
        "- São medidas que buscam descrever um conjunto de dados a partir de um valor central.\n",
        "- As distribuições de frequências e os gráficos de frequência são poderosas ferramentas."
      ],
      "metadata": {
        "id": "BV4MY9L6NMEz"
      }
    },
    {
      "cell_type": "markdown",
      "source": [
        "### Média\n",
        "\n",
        "- Medida mais conhecida e aplicada no meio estatístico.\n",
        "- Méda é soma de todos os valores dividido pela quantidade total desses valores.\n",
        "\n",
        "$$\n",
        "\\overline{x} = \\frac{\\sum_{i=1}^n x_i}{n}\n",
        "$$\n",
        "\n",
        "- $\\overline{x}$ : Representa a média simples.\n",
        "- $x_i$ : É o valor de cada elemento (ou dado) que será considerado.\n",
        "- $n$ : É o número total de elementos considerados na média.\n",
        "- $\\sum$ : Representa o somatório.\n",
        "- $\\sum_{i=1}^n x_i$ : É o somatório de todos os valores dos elementos.\n",
        "\n"
      ],
      "metadata": {
        "id": "Mg116A2rNwz1"
      }
    },
    {
      "cell_type": "code",
      "source": [
        "import numpy as np\n",
        "\n",
        "# Usando python nativo\n",
        "media_alugueis = sum(alugueis)/len(alugueis)\n",
        "\n",
        "# Usando a lib numpy\n",
        "\n",
        "np.mean(alugueis)"
      ],
      "metadata": {
        "colab": {
          "base_uri": "https://localhost:8080/",
          "height": 0
        },
        "id": "XJsaZMTDOG-1",
        "outputId": "658701d3-c86d-44a4-beb9-0e6260fe0df3"
      },
      "execution_count": 4,
      "outputs": [
        {
          "output_type": "execute_result",
          "data": {
            "text/plain": [
              "1621.0875"
            ]
          },
          "metadata": {},
          "execution_count": 4
        }
      ]
    },
    {
      "cell_type": "markdown",
      "source": [
        "### Mediana\n",
        "\n",
        "- Será o valor que está exatamente no meio de um conjunto de dados ordenado.\n",
        "- Divide o conjunto de dados em duas partes.\n",
        "- Se o conjunto for ímpar, a mediana é a entrada de dados do meio.\n",
        "- Se for par, a entrada será uma média das duas entradas do meio."
      ],
      "metadata": {
        "id": "fCR1D7hTOrHv"
      }
    },
    {
      "cell_type": "code",
      "source": [
        "# Ordena o conjunto de dados\n",
        "alugueis = sorted(alugueis)\n",
        "\n",
        "# Calcula o valor da mediana com base na quantidade de elementos do conjunto\n",
        "\n",
        "if len(alugueis) % 2 == 0:\n",
        "  indice = (len(alugueis) - 1) // 2\n",
        "  mediana = (alugueis[indice] + alugueis[ indice + 1]) / 2\n",
        "else:\n",
        "  mediana = alugueis[len(alugueis) / 2]\n",
        "\n",
        "\n",
        "# Calculando a mediana com numpy\n",
        "np.median(alugueis)"
      ],
      "metadata": {
        "colab": {
          "base_uri": "https://localhost:8080/",
          "height": 0
        },
        "id": "CUidNnYaPFve",
        "outputId": "65c24a2c-3df0-4fc4-8869-cb6daf3779cc"
      },
      "execution_count": 5,
      "outputs": [
        {
          "output_type": "execute_result",
          "data": {
            "text/plain": [
              "1594.5"
            ]
          },
          "metadata": {},
          "execution_count": 5
        }
      ]
    },
    {
      "cell_type": "markdown",
      "source": [
        "### Moda\n",
        "\n",
        "- É o conjunto de dados com base na ocorrência de determinado valor.\n",
        "- Se nenhuma ocorrência se repetir, a moda não vai existir\n"
      ],
      "metadata": {
        "id": "iUhWxHiURTwu"
      }
    },
    {
      "cell_type": "markdown",
      "source": [],
      "metadata": {
        "id": "QhP67SxWB9iG"
      }
    },
    {
      "cell_type": "code",
      "source": [
        "# Criando array\n",
        "contagens = [0]*len(alugueis)\n",
        "\n",
        "# Contando ocorrências\n",
        "for i in range(len(alugueis)):\n",
        "  contagens[i] = alugueis.count(alugueis[i])\n",
        "\n",
        "contagens\n",
        "max(contagens)\n",
        "\n",
        "\n",
        "indices_moda = np.where(np.array(contagens) == max(contagens))\n",
        "for indice in indices_moda[0]:\n",
        "  print(alugueis[indice])"
      ],
      "metadata": {
        "colab": {
          "base_uri": "https://localhost:8080/",
          "height": 0
        },
        "id": "G_1lPjvzPvpq",
        "outputId": "615b7b77-0e6c-41ae-880f-48a6f952c724"
      },
      "execution_count": 6,
      "outputs": [
        {
          "output_type": "stream",
          "name": "stdout",
          "text": [
            "2077\n",
            "2077\n"
          ]
        }
      ]
    },
    {
      "cell_type": "markdown",
      "source": [
        "### Qual medida de tendência central eu devo utilizar?\n",
        "\n",
        "- Média e Mediana são as mais comuns e utilizadas.\n",
        "- Média é influenciadas por valores discrepantes (outliers).\n",
        "- Mediana não é afetada por esses valores."
      ],
      "metadata": {
        "id": "Gca42mCwS5fn"
      }
    },
    {
      "cell_type": "markdown",
      "source": [
        "### Média Ponderada\n",
        "\n",
        "- Média utilizada quando temos um cojunto de valores possui um grau de importância.\n",
        "- Adicionar pesos nos valores que são necessários.\n",
        "- É o valor * o peso, tudo isso dividido pela soma dos pesos.\n",
        "\n",
        "$$\n",
        "\\overline{x} = \\frac{\\sum_{i=1}^n w_i x_i}{\\sum_{i=1}^n w_i}\n",
        "$$\n",
        "\n",
        "**Onde:**\n",
        "\n",
        "- $\\overline{x}$ : Representa a média ponderada.\n",
        "- $x_i$ : É o valor de cada elemento (ou dado) que será considerado.\n",
        "- $w_i$ : É o peso atribuído ao elemento $x_i$, indicando sua relevância ou importância.\n",
        "- $n$ : É o número total de elementos considerados na média.\n",
        "- $\\sum$ : Representa o somatório.\n",
        "- $\\sum_{i=1}^n w_i x_i$ : É o somatório do produto entre cada valor $x_i$ e seu respectivo peso $w_i$.\n",
        "- $\\sum_{i=1}^n w_i$ : É o somatório dos pesos atribuídos aos elementos."
      ],
      "metadata": {
        "id": "clVnQ_t-TkOu"
      }
    },
    {
      "cell_type": "markdown",
      "source": [
        "## Medidas de Variação\n",
        "\n",
        "- São utilizadas para avaliarmos a variação presente nos valores de determinado conjunto de dados.\n",
        "- Unidos com as medidas de tendência central, conseguem fornecer diversas informações acerca da base de dados.\n",
        "- As medidas de tedência central sozinhas, não conseguem informar muito sobre o conjunto de dados.\n",
        "\n",
        "$x_1 = \\{48, 53, 50, 47, 52\\}$\n",
        "\n",
        "$x_2 = \\{20, 30, 50, 60, 80\\}$\n",
        "\n",
        "- As medidas de tendência central não conseguem informar muito sobre como esses dados variam e seus padrões."
      ],
      "metadata": {
        "id": "wANuq2TYZtIG"
      }
    },
    {
      "cell_type": "markdown",
      "source": [
        "### Amplitude\n",
        "\n",
        "- Medida de variação mais simples.\n",
        "- Amplitude é definida pela subtração do maior valor, pelo menor valor.\n",
        "- Sua falha está nos casos em que o menor valor ou maior podem ser outliers.\n",
        "- Ela ajuda de forma simples a validar o quanto os dados variam, se o valor for pequeno, quer dizer que os dados não estão tão dispersos, se forem maiores, ficam mais dispersos.\n",
        "- Realizando comparação com a base original de dados.\n",
        "\n",
        "$$\n",
        "   \\text{Amplitude} = \\text{Valor máximo} - \\text{Valor mínimo}\n",
        "$$\n",
        "\n",
        "\n",
        "$$\n",
        "   \\text{Proporção da Amplitude} = \\frac{\\text{Amplitude}}{\\text{Média}}\n",
        "$$"
      ],
      "metadata": {
        "id": "5uwLlDOOdXhc"
      }
    },
    {
      "cell_type": "code",
      "source": [
        "amplitude = max(alugueis) - min(alugueis)\n",
        "amplitude"
      ],
      "metadata": {
        "colab": {
          "base_uri": "https://localhost:8080/",
          "height": 0
        },
        "id": "1RBrHp6MfgTN",
        "outputId": "5cfdb84f-3f81-438a-d1d3-adeb340ec3cd"
      },
      "execution_count": 7,
      "outputs": [
        {
          "output_type": "execute_result",
          "data": {
            "text/plain": [
              "2808"
            ]
          },
          "metadata": {},
          "execution_count": 7
        }
      ]
    },
    {
      "cell_type": "markdown",
      "source": [
        "### Variância\n",
        "\n",
        "- É definida pela média das diferenças quadradas entre cada dado dividido pela média do conjunto.\n",
        "- Ele vai medir cada dado do conjunto em relação a média (tendência central).\n",
        "- Ele vai trabalhar com o dados ao quadrado, para aproximar valores distantes a média e poder eliminar a possibilidade de valores negativos existirem.\n",
        "- Com base na variância, conseguimos validar se nosso conjunto de dados está muito disperso ou não, comparando o valor com nosso conjunto.\n",
        "\n",
        "$$\\sigma^2 = \\frac{\\sum_{i=1}^n (x_i - \\mu)^2}{n}$$\n",
        "\n",
        "**Onde:**\n",
        "\n",
        "#### Explicação dos Termos\n",
        "\n",
        "$\\sigma^2$ (Variância): Representa a **variância da população**. Mede a dispersão dos dados em relação à média $\\mu$. Um valor maior de $\\sigma^2$ indica maior dispersão dos dados.\n",
        "\n",
        "$\\sum_{i=1}^n$ (Somatório): Representa a soma de todos os valores calculados para cada elemento $x_i$ do conjunto de dados. O somatório garante que estamos considerando todos os elementos da população.\n",
        "\n",
        "$(x_i - \\mu)$ (Desvio): É a **diferença** entre cada valor $x_i$ e a **média da população** $\\mu$. Isso mostra o quanto cada dado está distante da média da população.\n",
        "\n",
        "$(x_i - \\mu)^2$ (Desvio ao quadrado): Elevamos o desvio ao quadrado para **remover os sinais negativos** e dar **maior peso aos desvios maiores**. Isso amplifica a contribuição dos valores mais distantes da média.\n",
        "\n",
        "$n$ (Número de elementos): Representa o número total de elementos na população. Divide o somatório para calcular a **média dos desvios quadrados**.\n",
        "\n",
        "$\\mu$ (Média da população): A **média** de todos os valores na população. Serve como o ponto de referência central para calcular os desvios."
      ],
      "metadata": {
        "id": "_q9BWGUMiwbC"
      }
    },
    {
      "cell_type": "code",
      "source": [
        "# Forma Manual\n",
        "var = 0\n",
        "media = np.mean(alugueis)\n",
        "\n",
        "for numero in alugueis:\n",
        "  var += (numero - media) ** 2\n",
        "\n",
        "var = var / len(alugueis)\n",
        "\n",
        "## Usando Pandas\n",
        "\n",
        "var = alugueis.var()\n",
        "var"
      ],
      "metadata": {
        "colab": {
          "base_uri": "https://localhost:8080/",
          "height": 0
        },
        "id": "v7qOwD4NpB-U",
        "outputId": "df6f6048-031d-422b-ef24-5ee2a8edac6d"
      },
      "execution_count": 27,
      "outputs": [
        {
          "output_type": "execute_result",
          "data": {
            "text/plain": [
              "319637.3213607595"
            ]
          },
          "metadata": {},
          "execution_count": 27
        }
      ]
    },
    {
      "cell_type": "markdown",
      "source": [
        "### Desvio Padrão\n",
        "\n",
        "- Essa medida vai entrar em conjunto com a variância, pois ela vai trabalhar com uma variância seguindo a mesma unidade que os dados originais.\n",
        "- A variância apresenta um valor discrepante ao conjunto original dos dados, com o desvio padrào fica mais fácil de correlacionar.\n",
        "\n",
        "$$\\sigma = \\sqrt{\\sigma^2}$$\n",
        "\n",
        "$\\sigma$ (Desvio padrão): Mede a dispersão dos dados em torno da média. Quanto menor o desvio padrão, mais próximos os dados estão da média.\n",
        "\n",
        "$\\sigma^2$ (Variância): Representa a **variância da população**. Mede a dispersão dos dados em relação à média $\\mu$. Um valor maior de $\\sigma^2$ indica maior dispersão dos dados.\n",
        "\n",
        "$\\sqrt{}$: Raiz quadrada da variância. Retorna à unidade original dos dados, tornando a interpretação mais fácil."
      ],
      "metadata": {
        "id": "NHFivhxEpoqd"
      }
    },
    {
      "cell_type": "code",
      "source": [
        "# Forma Manual\n",
        "desv = var **(1/2)\n",
        "desv\n",
        "\n",
        "# Utilizando pandas\n",
        "\n",
        "desv = alugueis.std()\n",
        "desv"
      ],
      "metadata": {
        "colab": {
          "base_uri": "https://localhost:8080/",
          "height": 0
        },
        "id": "NQru7-fXsTll",
        "outputId": "b0c917ca-31ab-42c2-cbae-562d22b8477d"
      },
      "execution_count": 29,
      "outputs": [
        {
          "output_type": "execute_result",
          "data": {
            "text/plain": [
              "565.364768411297"
            ]
          },
          "metadata": {},
          "execution_count": 29
        }
      ]
    },
    {
      "cell_type": "markdown",
      "source": [
        "### Interpretando Desvio Padrão e Variância\n",
        "\n",
        "- Quanto maior eles forem em relação a média (tendência central).\n",
        "- Utilizar em conjunto com a tendência central para realizar comparações.\n",
        "- A média quem vai cravar o gráfico num local específico e o desvio padrão e seus valores vão realizando a dispersão, ficando menos ou mais dispersos."
      ],
      "metadata": {
        "id": "yAR0-URasg9x"
      }
    },
    {
      "cell_type": "code",
      "source": [
        "media = 100\n",
        "desvio = 5\n",
        "dados1 = np.random.normal(media, desvio, 1000)\n",
        "\n",
        "media = 130\n",
        "desvio = 5\n",
        "dados2 = np.random.normal(media, desvio, 1000)\n",
        "\n",
        "media = 100\n",
        "desvio = 10\n",
        "dados3 = np.random.normal(media, desvio, 1000)\n",
        "\n",
        "# Plotagem dos gráficos\n",
        "plt.figure()\n",
        "plt.subplot(221)\n",
        "plt.hist(dados1, 10)\n",
        "plt.xlabel('Classe')\n",
        "plt.ylabel('Quantidade')\n",
        "plt.title('Dados 1')\n",
        "plt.xlim(50, 150)\n",
        "plt.grid(True)\n",
        "\n",
        "plt.figure()\n",
        "plt.subplot(222)\n",
        "plt.hist(dados2, 10)\n",
        "plt.xlabel('Classe')\n",
        "plt.ylabel('Quantidade')\n",
        "plt.title('Dados 2')\n",
        "plt.xlim(50, 150)\n",
        "plt.grid(True)\n",
        "\n",
        "plt.figure()\n",
        "plt.subplot(223)\n",
        "plt.hist(dados3, 10)\n",
        "plt.xlabel('Classe')\n",
        "plt.ylabel('Quantidade')\n",
        "plt.title('Dados 3')\n",
        "plt.xlim(50, 150)\n",
        "plt.grid(True)"
      ],
      "metadata": {
        "colab": {
          "base_uri": "https://localhost:8080/",
          "height": 776
        },
        "id": "lGsNsWjStQ2S",
        "outputId": "7bfbc728-8d6b-4f24-ad1d-247b2d2579ed"
      },
      "execution_count": 30,
      "outputs": [
        {
          "output_type": "display_data",
          "data": {
            "text/plain": [
              "<Figure size 640x480 with 1 Axes>"
            ],
            "image/png": "[encoded data removed]"
          },
          "metadata": {}
        },
        {
          "output_type": "display_data",
          "data": {
            "text/plain": [
              "<Figure size 640x480 with 1 Axes>"
            ],
            "image/png": "[encoded data removed]"
          },
          "metadata": {}
        },
        {
          "output_type": "display_data",
          "data": {
            "text/plain": [
              "<Figure size 640x480 with 1 Axes>"
            ],
            "image/png": "[encoded data removed]"
          },
          "metadata": {}
        }
      ]
    },
    {
      "cell_type": "markdown",
      "source": [
        "## Medidas de Posição\n",
        "\n",
        "- Além de termos as medidas que nos informam a centralidade e a variação dos dados, temos as medidas de posição.\n",
        "- Essas medidas vão ajudar a definir a posição em que determinado se encontra dentro do conjunto em que ele está inserido.\n",
        "\n",
        "### Fractis\n",
        "- São valores que dividem um conjunto de dados em partes iguais, como a mediana faz com um conjunto de dados.\n",
        "\n",
        "- A medida de posição mais usual é calculada com base nos quartis $Q_1$, $Q_2$, $Q_3$.\n",
        "  - Aproximadamente 1/4 (25%) dos dados abaixo do primeiro quartil.\n",
        "  - Aproximadamente metade dos dados abaixo do segundo quartil.\n",
        "  - Aproximadamente 3/4(75%) dos dados abaixo do terceiro quartil.\n",
        "\n",
        "**Cálculo dos Quartis**\n",
        "- Calcular a mediana do conjunto.\n",
        "- Dividir os dados com a mediana.\n",
        "- Encontrar a mediana da primeira parte - 25%\n",
        "- Encontrar a mediada da segunda parte - 75%\n",
        "\n",
        "**Exemplo: notas de 15 pessoas em uma prova**\n",
        "\n",
        "- 13 9 18 15 14 21 7 10 11 20 5 18 37 16 17\n",
        "- Ordena dados:\n",
        "  - 5 7 9 10 11 13 14 15 16 17 18 18 20 21 37\n",
        "- Encontra $Q_2$ (mediana):\n",
        "  - 5 7 9 10 11 **13** **14** 15 16 17 18 18 20 21 37\n",
        "- Encontra $Q_1$:\n",
        "  - 5 7 9 10 **11** 13 14 15 16 17 18 18 20 21 37\n",
        "- Encontra $Q_3$:\n",
        "  - 5 7 9 10 11 13 14 15 16 16 **17** 18 18 20 21 37\n",
        "\n",
        "**Interpretação**\n",
        "\n",
        "- Aproximadamente 1/4 dos funcionários obtém 10 ou menos.\n",
        "- Aproximadamente metade obtém 15 ou menos.\n",
        "- Aproximadamente 3/4 obtiveram 18 ou menos.\n",
        "- Aproximadamente 25% conseguirem mais de 18 pontos.\n",
        "- Os dados nos permitem várias interpretações, com base em suas posições e usamos uma medida de tenência central para isso, ou seja, as técnicas se complementam.\n",
        "- Um gráfico que podemos usar para avaliar esses dados é o **boxplot**.\n"
      ],
      "metadata": {
        "id": "CxyVgn3PusJr"
      }
    },
    {
      "cell_type": "code",
      "source": [
        "plt.boxplot(alugueis)\n",
        "plt.title('Boxplot do número de alugueis por dia')\n",
        "plt.xlabel(\"Quantidade\")\n",
        "plt.grid()\n",
        "plt.show()"
      ],
      "metadata": {
        "colab": {
          "base_uri": "https://localhost:8080/",
          "height": 472
        },
        "id": "wR3qU9N9y0JZ",
        "outputId": "594e0e14-97a1-465e-f16d-bc21870b1dfa"
      },
      "execution_count": 31,
      "outputs": [
        {
          "output_type": "display_data",
          "data": {
            "text/plain": [
              "<Figure size 640x480 with 1 Axes>"
            ],
            "image/png": "[encoded data removed]"
          },
          "metadata": {}
        }
      ]
    },
    {
      "cell_type": "markdown",
      "source": [
        "O gŕafico acima apresenta a seguinte análise:\n",
        "- O limite mínimo e máximo dos valores está entre **500** e **2.800**.\n",
        "- A largura da caixa em relação aos limites está pequena, ou seja, estão moderadamente mais concentrados em relação a mediana.\n",
        "- A mediana, localizada perto de 1500-1600.\n",
        "- Os quartis estão distribuídos de forma simétrica pela mediana, assim podemos deduzir que eles estão concentrados de forma simétrica.\n",
        "- Temos a presença de outliers, que fogem dos valores mínimos e máximos, são aqueles valores que fogem da relação que os outros possuem.\n",
        "\n",
        "**Avisos**\n",
        "- Vale ressaltar que esse box, é composto por 50% dos valores: 25% - 50% - 75% => 50%\n",
        "- Ele serve para vermos de maneira mais visual a disposição desses dados, não usamos ele para inferir com exatidão os valores, podemos validar suas tendências."
      ],
      "metadata": {
        "id": "qrjrl6UZ6dBN"
      }
    }
  ]
}